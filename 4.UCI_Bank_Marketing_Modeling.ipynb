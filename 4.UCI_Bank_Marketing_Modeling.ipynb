{
 "cells": [
  {
   "cell_type": "markdown",
   "metadata": {
    "id": "OglheQSLs4Mj"
   },
   "source": [
    "#  4. Modeling\n",
    "\n",
    "In the modeling phase, I will develop machine learning models to predict the term deposit subscription. Since this is a classification task in which there is an imbalance in the dependent variable, I will use F1 score as the metric for evaluation with higher F1 scores indicating better models. In all of the models I will use **Cross-Validation** with **10** folds and take the mean F1 score of all 10 results for evaluation purposes. "
   ]
  },
  {
   "cell_type": "markdown",
   "metadata": {},
   "source": [
    "There are two versions of the data sets: one with PCA-derived variables and one without. I will start with the non-PCA data set."
   ]
  },
  {
   "cell_type": "code",
   "execution_count": 1,
   "metadata": {},
   "outputs": [],
   "source": [
    "#installing libraries not already installed\n",
    "#! pip install scikit-optimize #uncomment if scikit-optimize is not already installed\n",
    "#! pip install xgboost #uncomment if xgboost is not already installed"
   ]
  },
  {
   "cell_type": "code",
   "execution_count": 2,
   "metadata": {},
   "outputs": [],
   "source": [
    "#Importing required libraries\n",
    "import pandas as pd\n",
    "import numpy as np\n",
    "import matplotlib.pyplot as plt\n",
    "import seaborn as sns\n",
    "import time\n",
    "\n",
    "#Define a timer\n",
    "def print_time(start_time, end_time):\n",
    "    elapsed_time = end_time - start_time\n",
    "    hours = elapsed_time // 3600\n",
    "    mins = (elapsed_time - hours*3600)//60\n",
    "    secs = (elapsed_time - hours*3600 - mins*60) // 1\n",
    "    \n",
    "    return print(\"\\nTime elapsed: {} hours {} minutes and {} seconds\".format(hours, mins, secs))\n",
    "\n",
    "\n",
    "import warnings\n",
    "warnings.filterwarnings(\"ignore\")"
   ]
  },
  {
   "cell_type": "code",
   "execution_count": 3,
   "metadata": {
    "colab": {
     "base_uri": "https://localhost:8080/",
     "height": 224
    },
    "executionInfo": {
     "elapsed": 383,
     "status": "ok",
     "timestamp": 1635375028925,
     "user": {
      "displayName": "Berkalp Altay",
      "photoUrl": "https://lh3.googleusercontent.com/a/default-user=s64",
      "userId": "04046920140933595149"
     },
     "user_tz": 240
    },
    "id": "7WkfuEXE7_mu",
    "outputId": "443f02e0-cdd1-4515-d813-c96d37be04ab"
   },
   "outputs": [
    {
     "data": {
      "text/html": [
       "<div>\n",
       "<style scoped>\n",
       "    .dataframe tbody tr th:only-of-type {\n",
       "        vertical-align: middle;\n",
       "    }\n",
       "\n",
       "    .dataframe tbody tr th {\n",
       "        vertical-align: top;\n",
       "    }\n",
       "\n",
       "    .dataframe thead th {\n",
       "        text-align: right;\n",
       "    }\n",
       "</style>\n",
       "<table border=\"1\" class=\"dataframe\">\n",
       "  <thead>\n",
       "    <tr style=\"text-align: right;\">\n",
       "      <th></th>\n",
       "      <th>age</th>\n",
       "      <th>contact</th>\n",
       "      <th>campaign</th>\n",
       "      <th>pdays</th>\n",
       "      <th>previous</th>\n",
       "      <th>emp.var.rate</th>\n",
       "      <th>cons.price.idx</th>\n",
       "      <th>cons.conf.idx</th>\n",
       "      <th>euribor3m</th>\n",
       "      <th>nr.employed</th>\n",
       "      <th>...</th>\n",
       "      <th>month_nov</th>\n",
       "      <th>month_oct</th>\n",
       "      <th>month_sep</th>\n",
       "      <th>day_of_week_mon</th>\n",
       "      <th>day_of_week_thu</th>\n",
       "      <th>day_of_week_tue</th>\n",
       "      <th>day_of_week_wed</th>\n",
       "      <th>poutcome_nonexistent</th>\n",
       "      <th>poutcome_success</th>\n",
       "      <th>y</th>\n",
       "    </tr>\n",
       "  </thead>\n",
       "  <tbody>\n",
       "    <tr>\n",
       "      <th>0</th>\n",
       "      <td>24</td>\n",
       "      <td>1</td>\n",
       "      <td>2</td>\n",
       "      <td>999</td>\n",
       "      <td>1</td>\n",
       "      <td>-2.9</td>\n",
       "      <td>92.963</td>\n",
       "      <td>-40.8</td>\n",
       "      <td>1.262</td>\n",
       "      <td>5076.2</td>\n",
       "      <td>...</td>\n",
       "      <td>0.0</td>\n",
       "      <td>0.0</td>\n",
       "      <td>0.0</td>\n",
       "      <td>0.0</td>\n",
       "      <td>0.0</td>\n",
       "      <td>1.0</td>\n",
       "      <td>0.0</td>\n",
       "      <td>0.0</td>\n",
       "      <td>0.0</td>\n",
       "      <td>0</td>\n",
       "    </tr>\n",
       "    <tr>\n",
       "      <th>1</th>\n",
       "      <td>32</td>\n",
       "      <td>0</td>\n",
       "      <td>1</td>\n",
       "      <td>999</td>\n",
       "      <td>0</td>\n",
       "      <td>1.1</td>\n",
       "      <td>93.994</td>\n",
       "      <td>-36.4</td>\n",
       "      <td>4.855</td>\n",
       "      <td>5191.0</td>\n",
       "      <td>...</td>\n",
       "      <td>0.0</td>\n",
       "      <td>0.0</td>\n",
       "      <td>0.0</td>\n",
       "      <td>0.0</td>\n",
       "      <td>1.0</td>\n",
       "      <td>0.0</td>\n",
       "      <td>0.0</td>\n",
       "      <td>1.0</td>\n",
       "      <td>0.0</td>\n",
       "      <td>1</td>\n",
       "    </tr>\n",
       "    <tr>\n",
       "      <th>2</th>\n",
       "      <td>33</td>\n",
       "      <td>0</td>\n",
       "      <td>1</td>\n",
       "      <td>999</td>\n",
       "      <td>0</td>\n",
       "      <td>-0.1</td>\n",
       "      <td>93.200</td>\n",
       "      <td>-42.0</td>\n",
       "      <td>4.245</td>\n",
       "      <td>5195.8</td>\n",
       "      <td>...</td>\n",
       "      <td>1.0</td>\n",
       "      <td>0.0</td>\n",
       "      <td>0.0</td>\n",
       "      <td>0.0</td>\n",
       "      <td>1.0</td>\n",
       "      <td>0.0</td>\n",
       "      <td>0.0</td>\n",
       "      <td>1.0</td>\n",
       "      <td>0.0</td>\n",
       "      <td>0</td>\n",
       "    </tr>\n",
       "    <tr>\n",
       "      <th>3</th>\n",
       "      <td>38</td>\n",
       "      <td>0</td>\n",
       "      <td>4</td>\n",
       "      <td>999</td>\n",
       "      <td>0</td>\n",
       "      <td>1.4</td>\n",
       "      <td>93.918</td>\n",
       "      <td>-42.7</td>\n",
       "      <td>4.957</td>\n",
       "      <td>5228.1</td>\n",
       "      <td>...</td>\n",
       "      <td>0.0</td>\n",
       "      <td>0.0</td>\n",
       "      <td>0.0</td>\n",
       "      <td>0.0</td>\n",
       "      <td>0.0</td>\n",
       "      <td>0.0</td>\n",
       "      <td>0.0</td>\n",
       "      <td>1.0</td>\n",
       "      <td>0.0</td>\n",
       "      <td>0</td>\n",
       "    </tr>\n",
       "    <tr>\n",
       "      <th>4</th>\n",
       "      <td>39</td>\n",
       "      <td>1</td>\n",
       "      <td>4</td>\n",
       "      <td>999</td>\n",
       "      <td>0</td>\n",
       "      <td>1.4</td>\n",
       "      <td>93.918</td>\n",
       "      <td>-42.7</td>\n",
       "      <td>4.961</td>\n",
       "      <td>5228.1</td>\n",
       "      <td>...</td>\n",
       "      <td>0.0</td>\n",
       "      <td>0.0</td>\n",
       "      <td>0.0</td>\n",
       "      <td>0.0</td>\n",
       "      <td>0.0</td>\n",
       "      <td>1.0</td>\n",
       "      <td>0.0</td>\n",
       "      <td>1.0</td>\n",
       "      <td>0.0</td>\n",
       "      <td>0</td>\n",
       "    </tr>\n",
       "  </tbody>\n",
       "</table>\n",
       "<p>5 rows × 53 columns</p>\n",
       "</div>"
      ],
      "text/plain": [
       "   age  contact  campaign  pdays  previous  emp.var.rate  cons.price.idx  \\\n",
       "0   24        1         2    999         1          -2.9          92.963   \n",
       "1   32        0         1    999         0           1.1          93.994   \n",
       "2   33        0         1    999         0          -0.1          93.200   \n",
       "3   38        0         4    999         0           1.4          93.918   \n",
       "4   39        1         4    999         0           1.4          93.918   \n",
       "\n",
       "   cons.conf.idx  euribor3m  nr.employed  ...  month_nov  month_oct  \\\n",
       "0          -40.8      1.262       5076.2  ...        0.0        0.0   \n",
       "1          -36.4      4.855       5191.0  ...        0.0        0.0   \n",
       "2          -42.0      4.245       5195.8  ...        1.0        0.0   \n",
       "3          -42.7      4.957       5228.1  ...        0.0        0.0   \n",
       "4          -42.7      4.961       5228.1  ...        0.0        0.0   \n",
       "\n",
       "   month_sep  day_of_week_mon  day_of_week_thu  day_of_week_tue  \\\n",
       "0        0.0              0.0              0.0              1.0   \n",
       "1        0.0              0.0              1.0              0.0   \n",
       "2        0.0              0.0              1.0              0.0   \n",
       "3        0.0              0.0              0.0              0.0   \n",
       "4        0.0              0.0              0.0              1.0   \n",
       "\n",
       "   day_of_week_wed  poutcome_nonexistent  poutcome_success  y  \n",
       "0              0.0                   0.0               0.0  0  \n",
       "1              0.0                   1.0               0.0  1  \n",
       "2              0.0                   1.0               0.0  0  \n",
       "3              0.0                   1.0               0.0  0  \n",
       "4              0.0                   1.0               0.0  0  \n",
       "\n",
       "[5 rows x 53 columns]"
      ]
     },
     "execution_count": 3,
     "metadata": {},
     "output_type": "execute_result"
    }
   ],
   "source": [
    "#Load non-PCA train dataset\n",
    "train = pd.read_csv(\"data/train_set.csv\")\n",
    "train.head()"
   ]
  },
  {
   "cell_type": "code",
   "execution_count": 4,
   "metadata": {},
   "outputs": [
    {
     "data": {
      "text/html": [
       "<div>\n",
       "<style scoped>\n",
       "    .dataframe tbody tr th:only-of-type {\n",
       "        vertical-align: middle;\n",
       "    }\n",
       "\n",
       "    .dataframe tbody tr th {\n",
       "        vertical-align: top;\n",
       "    }\n",
       "\n",
       "    .dataframe thead th {\n",
       "        text-align: right;\n",
       "    }\n",
       "</style>\n",
       "<table border=\"1\" class=\"dataframe\">\n",
       "  <thead>\n",
       "    <tr style=\"text-align: right;\">\n",
       "      <th></th>\n",
       "      <th>age</th>\n",
       "      <th>contact</th>\n",
       "      <th>campaign</th>\n",
       "      <th>pdays</th>\n",
       "      <th>previous</th>\n",
       "      <th>emp.var.rate</th>\n",
       "      <th>cons.price.idx</th>\n",
       "      <th>cons.conf.idx</th>\n",
       "      <th>euribor3m</th>\n",
       "      <th>nr.employed</th>\n",
       "      <th>...</th>\n",
       "      <th>month_nov</th>\n",
       "      <th>month_oct</th>\n",
       "      <th>month_sep</th>\n",
       "      <th>day_of_week_mon</th>\n",
       "      <th>day_of_week_thu</th>\n",
       "      <th>day_of_week_tue</th>\n",
       "      <th>day_of_week_wed</th>\n",
       "      <th>poutcome_nonexistent</th>\n",
       "      <th>poutcome_success</th>\n",
       "      <th>y</th>\n",
       "    </tr>\n",
       "  </thead>\n",
       "  <tbody>\n",
       "    <tr>\n",
       "      <th>0</th>\n",
       "      <td>35</td>\n",
       "      <td>0</td>\n",
       "      <td>14</td>\n",
       "      <td>999</td>\n",
       "      <td>0</td>\n",
       "      <td>1.4</td>\n",
       "      <td>94.465</td>\n",
       "      <td>-41.8</td>\n",
       "      <td>4.864</td>\n",
       "      <td>5228.1</td>\n",
       "      <td>...</td>\n",
       "      <td>0.0</td>\n",
       "      <td>0.0</td>\n",
       "      <td>0.0</td>\n",
       "      <td>0.0</td>\n",
       "      <td>0.0</td>\n",
       "      <td>0.0</td>\n",
       "      <td>1.0</td>\n",
       "      <td>1.0</td>\n",
       "      <td>0.0</td>\n",
       "      <td>0</td>\n",
       "    </tr>\n",
       "    <tr>\n",
       "      <th>1</th>\n",
       "      <td>30</td>\n",
       "      <td>1</td>\n",
       "      <td>2</td>\n",
       "      <td>6</td>\n",
       "      <td>1</td>\n",
       "      <td>-1.1</td>\n",
       "      <td>94.199</td>\n",
       "      <td>-37.5</td>\n",
       "      <td>0.880</td>\n",
       "      <td>4963.6</td>\n",
       "      <td>...</td>\n",
       "      <td>0.0</td>\n",
       "      <td>0.0</td>\n",
       "      <td>1.0</td>\n",
       "      <td>0.0</td>\n",
       "      <td>0.0</td>\n",
       "      <td>1.0</td>\n",
       "      <td>0.0</td>\n",
       "      <td>0.0</td>\n",
       "      <td>1.0</td>\n",
       "      <td>1</td>\n",
       "    </tr>\n",
       "    <tr>\n",
       "      <th>2</th>\n",
       "      <td>37</td>\n",
       "      <td>1</td>\n",
       "      <td>3</td>\n",
       "      <td>999</td>\n",
       "      <td>1</td>\n",
       "      <td>-1.8</td>\n",
       "      <td>92.893</td>\n",
       "      <td>-46.2</td>\n",
       "      <td>1.244</td>\n",
       "      <td>5099.1</td>\n",
       "      <td>...</td>\n",
       "      <td>0.0</td>\n",
       "      <td>0.0</td>\n",
       "      <td>0.0</td>\n",
       "      <td>1.0</td>\n",
       "      <td>0.0</td>\n",
       "      <td>0.0</td>\n",
       "      <td>0.0</td>\n",
       "      <td>0.0</td>\n",
       "      <td>0.0</td>\n",
       "      <td>0</td>\n",
       "    </tr>\n",
       "    <tr>\n",
       "      <th>3</th>\n",
       "      <td>31</td>\n",
       "      <td>1</td>\n",
       "      <td>2</td>\n",
       "      <td>999</td>\n",
       "      <td>0</td>\n",
       "      <td>-1.8</td>\n",
       "      <td>92.893</td>\n",
       "      <td>-46.2</td>\n",
       "      <td>1.266</td>\n",
       "      <td>5099.1</td>\n",
       "      <td>...</td>\n",
       "      <td>0.0</td>\n",
       "      <td>0.0</td>\n",
       "      <td>0.0</td>\n",
       "      <td>0.0</td>\n",
       "      <td>0.0</td>\n",
       "      <td>1.0</td>\n",
       "      <td>0.0</td>\n",
       "      <td>1.0</td>\n",
       "      <td>0.0</td>\n",
       "      <td>0</td>\n",
       "    </tr>\n",
       "    <tr>\n",
       "      <th>4</th>\n",
       "      <td>31</td>\n",
       "      <td>1</td>\n",
       "      <td>2</td>\n",
       "      <td>999</td>\n",
       "      <td>0</td>\n",
       "      <td>1.4</td>\n",
       "      <td>93.444</td>\n",
       "      <td>-36.1</td>\n",
       "      <td>4.964</td>\n",
       "      <td>5228.1</td>\n",
       "      <td>...</td>\n",
       "      <td>0.0</td>\n",
       "      <td>0.0</td>\n",
       "      <td>0.0</td>\n",
       "      <td>0.0</td>\n",
       "      <td>0.0</td>\n",
       "      <td>0.0</td>\n",
       "      <td>1.0</td>\n",
       "      <td>1.0</td>\n",
       "      <td>0.0</td>\n",
       "      <td>0</td>\n",
       "    </tr>\n",
       "  </tbody>\n",
       "</table>\n",
       "<p>5 rows × 53 columns</p>\n",
       "</div>"
      ],
      "text/plain": [
       "   age  contact  campaign  pdays  previous  emp.var.rate  cons.price.idx  \\\n",
       "0   35        0        14    999         0           1.4          94.465   \n",
       "1   30        1         2      6         1          -1.1          94.199   \n",
       "2   37        1         3    999         1          -1.8          92.893   \n",
       "3   31        1         2    999         0          -1.8          92.893   \n",
       "4   31        1         2    999         0           1.4          93.444   \n",
       "\n",
       "   cons.conf.idx  euribor3m  nr.employed  ...  month_nov  month_oct  \\\n",
       "0          -41.8      4.864       5228.1  ...        0.0        0.0   \n",
       "1          -37.5      0.880       4963.6  ...        0.0        0.0   \n",
       "2          -46.2      1.244       5099.1  ...        0.0        0.0   \n",
       "3          -46.2      1.266       5099.1  ...        0.0        0.0   \n",
       "4          -36.1      4.964       5228.1  ...        0.0        0.0   \n",
       "\n",
       "   month_sep  day_of_week_mon  day_of_week_thu  day_of_week_tue  \\\n",
       "0        0.0              0.0              0.0              0.0   \n",
       "1        1.0              0.0              0.0              1.0   \n",
       "2        0.0              1.0              0.0              0.0   \n",
       "3        0.0              0.0              0.0              1.0   \n",
       "4        0.0              0.0              0.0              0.0   \n",
       "\n",
       "   day_of_week_wed  poutcome_nonexistent  poutcome_success  y  \n",
       "0              1.0                   1.0               0.0  0  \n",
       "1              0.0                   0.0               1.0  1  \n",
       "2              0.0                   0.0               0.0  0  \n",
       "3              0.0                   1.0               0.0  0  \n",
       "4              1.0                   1.0               0.0  0  \n",
       "\n",
       "[5 rows x 53 columns]"
      ]
     },
     "execution_count": 4,
     "metadata": {},
     "output_type": "execute_result"
    }
   ],
   "source": [
    "#Load non-PCA test dataset\n",
    "test = pd.read_csv(\"data/test_set.csv\")\n",
    "test.head()"
   ]
  },
  {
   "cell_type": "code",
   "execution_count": 5,
   "metadata": {
    "colab": {
     "base_uri": "https://localhost:8080/"
    },
    "executionInfo": {
     "elapsed": 4,
     "status": "ok",
     "timestamp": 1635375031837,
     "user": {
      "displayName": "Berkalp Altay",
      "photoUrl": "https://lh3.googleusercontent.com/a/default-user=s64",
      "userId": "04046920140933595149"
     },
     "user_tz": 240
    },
    "id": "hFbeFCz0_Lko",
    "outputId": "80460d28-2cc1-413a-b6da-d5f21bc3936f"
   },
   "outputs": [
    {
     "name": "stdout",
     "output_type": "stream",
     "text": [
      "0    0\n",
      "1    1\n",
      "2    0\n",
      "3    0\n",
      "4    0\n",
      "Name: y, dtype: int64\n",
      "   age  contact  campaign  pdays  previous  emp.var.rate  cons.price.idx  \\\n",
      "0   24        1         2    999         1          -2.9          92.963   \n",
      "1   32        0         1    999         0           1.1          93.994   \n",
      "2   33        0         1    999         0          -0.1          93.200   \n",
      "3   38        0         4    999         0           1.4          93.918   \n",
      "4   39        1         4    999         0           1.4          93.918   \n",
      "\n",
      "   cons.conf.idx  euribor3m  nr.employed  ...  month_may  month_nov  \\\n",
      "0          -40.8      1.262       5076.2  ...        0.0        0.0   \n",
      "1          -36.4      4.855       5191.0  ...        1.0        0.0   \n",
      "2          -42.0      4.245       5195.8  ...        0.0        1.0   \n",
      "3          -42.7      4.957       5228.1  ...        0.0        0.0   \n",
      "4          -42.7      4.961       5228.1  ...        0.0        0.0   \n",
      "\n",
      "   month_oct  month_sep  day_of_week_mon  day_of_week_thu  day_of_week_tue  \\\n",
      "0        0.0        0.0              0.0              0.0              1.0   \n",
      "1        0.0        0.0              0.0              1.0              0.0   \n",
      "2        0.0        0.0              0.0              1.0              0.0   \n",
      "3        0.0        0.0              0.0              0.0              0.0   \n",
      "4        0.0        0.0              0.0              0.0              1.0   \n",
      "\n",
      "   day_of_week_wed  poutcome_nonexistent  poutcome_success  \n",
      "0              0.0                   0.0               0.0  \n",
      "1              0.0                   1.0               0.0  \n",
      "2              0.0                   1.0               0.0  \n",
      "3              0.0                   1.0               0.0  \n",
      "4              0.0                   1.0               0.0  \n",
      "\n",
      "[5 rows x 52 columns]\n"
     ]
    }
   ],
   "source": [
    "#separate inputs from target in train set\n",
    "X_train = train.drop('y', axis=1)\n",
    "y_train = train['y']\n",
    "#check X and y\n",
    "print(y_train.head())\n",
    "print(X_train.head())"
   ]
  },
  {
   "cell_type": "code",
   "execution_count": 6,
   "metadata": {},
   "outputs": [
    {
     "name": "stdout",
     "output_type": "stream",
     "text": [
      "0    0\n",
      "1    1\n",
      "2    0\n",
      "3    0\n",
      "4    0\n",
      "Name: y, dtype: int64\n",
      "   age  contact  campaign  pdays  previous  emp.var.rate  cons.price.idx  \\\n",
      "0   35        0        14    999         0           1.4          94.465   \n",
      "1   30        1         2      6         1          -1.1          94.199   \n",
      "2   37        1         3    999         1          -1.8          92.893   \n",
      "3   31        1         2    999         0          -1.8          92.893   \n",
      "4   31        1         2    999         0           1.4          93.444   \n",
      "\n",
      "   cons.conf.idx  euribor3m  nr.employed  ...  month_may  month_nov  \\\n",
      "0          -41.8      4.864       5228.1  ...        0.0        0.0   \n",
      "1          -37.5      0.880       4963.6  ...        0.0        0.0   \n",
      "2          -46.2      1.244       5099.1  ...        1.0        0.0   \n",
      "3          -46.2      1.266       5099.1  ...        1.0        0.0   \n",
      "4          -36.1      4.964       5228.1  ...        0.0        0.0   \n",
      "\n",
      "   month_oct  month_sep  day_of_week_mon  day_of_week_thu  day_of_week_tue  \\\n",
      "0        0.0        0.0              0.0              0.0              0.0   \n",
      "1        0.0        1.0              0.0              0.0              1.0   \n",
      "2        0.0        0.0              1.0              0.0              0.0   \n",
      "3        0.0        0.0              0.0              0.0              1.0   \n",
      "4        0.0        0.0              0.0              0.0              0.0   \n",
      "\n",
      "   day_of_week_wed  poutcome_nonexistent  poutcome_success  \n",
      "0              1.0                   1.0               0.0  \n",
      "1              0.0                   0.0               1.0  \n",
      "2              0.0                   0.0               0.0  \n",
      "3              0.0                   1.0               0.0  \n",
      "4              1.0                   1.0               0.0  \n",
      "\n",
      "[5 rows x 52 columns]\n"
     ]
    }
   ],
   "source": [
    "#separate inputs from target in test set\n",
    "X_test = test.drop('y', axis=1)\n",
    "y_test = test['y']\n",
    "#check X and y\n",
    "print(y_test.head())\n",
    "print(X_test.head())"
   ]
  },
  {
   "cell_type": "code",
   "execution_count": 7,
   "metadata": {
    "id": "4RE73tGOvRs_"
   },
   "outputs": [],
   "source": [
    "#import models & other required packages\n",
    "from sklearn.preprocessing import StandardScaler\n",
    "from sklearn.pipeline import Pipeline\n",
    "from sklearn.metrics import f1_score\n",
    "\n",
    "from sklearn.linear_model import LogisticRegression\n",
    "from sklearn.ensemble import RandomForestClassifier\n",
    "from sklearn.model_selection import GridSearchCV\n",
    "from xgboost import XGBClassifier\n",
    "\n",
    "# import libraries for hyperparameters tuning\n",
    "from skopt import BayesSearchCV\n",
    "from skopt import space"
   ]
  },
  {
   "cell_type": "markdown",
   "metadata": {
    "id": "tEXBQeMYu4Tm"
   },
   "source": [
    "<h3> 4.1. Logistic Regression </h3>\n",
    "\n",
    "I will start with a base model of logistic regression without any hyperparameter tuning or cross-validation."
   ]
  },
  {
   "cell_type": "code",
   "execution_count": 8,
   "metadata": {
    "id": "a3dVo6Fiqr_1"
   },
   "outputs": [],
   "source": [
    "#define Logistic Regression pipe\n",
    "pipe_lr = Pipeline([(\"scaler\", StandardScaler()),\n",
    "                    (\"model\", LogisticRegression(random_state = 42))\n",
    "                        \n",
    "])"
   ]
  },
  {
   "cell_type": "code",
   "execution_count": 9,
   "metadata": {
    "colab": {
     "base_uri": "https://localhost:8080/"
    },
    "executionInfo": {
     "elapsed": 322,
     "status": "ok",
     "timestamp": 1635375050973,
     "user": {
      "displayName": "Berkalp Altay",
      "photoUrl": "https://lh3.googleusercontent.com/a/default-user=s64",
      "userId": "04046920140933595149"
     },
     "user_tz": 240
    },
    "id": "7lHQhpu9w2E-",
    "outputId": "e57da3ea-d5ef-4fc9-f4ec-776280c8fb2f"
   },
   "outputs": [
    {
     "name": "stdout",
     "output_type": "stream",
     "text": [
      "\n",
      "Time elapsed: 0.0 hours 0.0 minutes and 0.0 seconds\n"
     ]
    }
   ],
   "source": [
    "#fit Logistic Regression pipe\n",
    "start_time = time.perf_counter()\n",
    "\n",
    "pipe_lr.fit(X_train, y_train)\n",
    "\n",
    "end_time = time.perf_counter()\n",
    "print_time(start_time, end_time)\n"
   ]
  },
  {
   "cell_type": "code",
   "execution_count": 10,
   "metadata": {
    "colab": {
     "base_uri": "https://localhost:8080/"
    },
    "executionInfo": {
     "elapsed": 5,
     "status": "ok",
     "timestamp": 1635375052823,
     "user": {
      "displayName": "Berkalp Altay",
      "photoUrl": "https://lh3.googleusercontent.com/a/default-user=s64",
      "userId": "04046920140933595149"
     },
     "user_tz": 240
    },
    "id": "gluypleX0lYl",
    "outputId": "1d1dbb69-b1f5-471d-93a8-70f309681e49"
   },
   "outputs": [
    {
     "name": "stdout",
     "output_type": "stream",
     "text": [
      "Logistic Regression F1 score: 0.3151020408163265\n"
     ]
    }
   ],
   "source": [
    "#Predict using fitted Logistic Regression model\n",
    "lr_preds = pipe_lr.predict(X_test)\n",
    "\n",
    "lr_f1 = f1_score(y_test, lr_preds)\n",
    "print(\"Logistic Regression F1 score:\",lr_f1)"
   ]
  },
  {
   "cell_type": "code",
   "execution_count": 11,
   "metadata": {
    "colab": {
     "base_uri": "https://localhost:8080/",
     "height": 80
    },
    "executionInfo": {
     "elapsed": 326,
     "status": "ok",
     "timestamp": 1635375695302,
     "user": {
      "displayName": "Berkalp Altay",
      "photoUrl": "https://lh3.googleusercontent.com/a/default-user=s64",
      "userId": "04046920140933595149"
     },
     "user_tz": 240
    },
    "id": "GpGJsP3O31tL",
    "outputId": "f271a6e2-12b2-4baf-c887-43fc9c2c8e2b"
   },
   "outputs": [
    {
     "data": {
      "text/html": [
       "<div>\n",
       "<style scoped>\n",
       "    .dataframe tbody tr th:only-of-type {\n",
       "        vertical-align: middle;\n",
       "    }\n",
       "\n",
       "    .dataframe tbody tr th {\n",
       "        vertical-align: top;\n",
       "    }\n",
       "\n",
       "    .dataframe thead th {\n",
       "        text-align: right;\n",
       "    }\n",
       "</style>\n",
       "<table border=\"1\" class=\"dataframe\">\n",
       "  <thead>\n",
       "    <tr style=\"text-align: right;\">\n",
       "      <th></th>\n",
       "      <th>F1</th>\n",
       "    </tr>\n",
       "  </thead>\n",
       "  <tbody>\n",
       "    <tr>\n",
       "      <th>LR</th>\n",
       "      <td>0.315102</td>\n",
       "    </tr>\n",
       "  </tbody>\n",
       "</table>\n",
       "</div>"
      ],
      "text/plain": [
       "          F1\n",
       "LR  0.315102"
      ]
     },
     "execution_count": 11,
     "metadata": {},
     "output_type": "execute_result"
    }
   ],
   "source": [
    "#Store results\n",
    "results = pd.DataFrame({\"F1\" : lr_f1}, index = [\"LR\"])\n",
    "results"
   ]
  },
  {
   "cell_type": "markdown",
   "metadata": {
    "id": "KUIJzDtc5R3L"
   },
   "source": [
    "The base Logistic Regression Model gives an F1 score of **0.3151**. Now, I will look at other models to improve the F1 score."
   ]
  },
  {
   "cell_type": "markdown",
   "metadata": {
    "id": "L0UCFvW2_MHY"
   },
   "source": [
    "## <h3> 4.2. Logistic Regression with GridSearchCV </h3>\n",
    "\n",
    "Now, I will use cross validation and tune hyperparameters for the logistic regression model to improve the F1 score.\n",
    "The hyperparameters I will optimize are class weights since the target variable is imbalanced and regularization penalty term.\n"
   ]
  },
  {
   "cell_type": "code",
   "execution_count": 12,
   "metadata": {
    "id": "M-lQKo2L-uEI"
   },
   "outputs": [],
   "source": [
    "#Define LR + GridSearchCV pipe\n",
    "pipe_lr_grid = Pipeline([(\"scaler\", StandardScaler()),\n",
    "                          (\"model\", LogisticRegression(random_state=42))\n",
    "                        \n",
    "])\n",
    "#Define parameter space\n",
    "params_lr = {'model__penalty': [\"none\", \"l1\", \"l2\"],\n",
    "             'model__class_weight': [None,\"balanced\"]\n",
    "           }\n",
    "\n",
    "\n",
    "#use n_jobs = -1 to use all processors\n",
    "lr_grid = GridSearchCV(pipe_lr_grid, param_grid = params_lr, n_jobs = -1, cv=10, scoring=\"f1\")"
   ]
  },
  {
   "cell_type": "code",
   "execution_count": 13,
   "metadata": {
    "colab": {
     "base_uri": "https://localhost:8080/"
    },
    "executionInfo": {
     "elapsed": 3167,
     "status": "ok",
     "timestamp": 1635375116691,
     "user": {
      "displayName": "Berkalp Altay",
      "photoUrl": "https://lh3.googleusercontent.com/a/default-user=s64",
      "userId": "04046920140933595149"
     },
     "user_tz": 240
    },
    "id": "fbd9Ab-MARWu",
    "outputId": "e7e48bef-eb59-40aa-8d10-56c6d4d78a4c"
   },
   "outputs": [
    {
     "name": "stdout",
     "output_type": "stream",
     "text": [
      "\n",
      "Time elapsed: 0.0 hours 0.0 minutes and 5.0 seconds\n"
     ]
    }
   ],
   "source": [
    "#Fit LR + GridSearchCV\n",
    "start_time = time.perf_counter()\n",
    "\n",
    "lr_grid.fit(X_train, y_train)\n",
    "\n",
    "end_time = time.perf_counter()\n",
    "print_time(start_time, end_time)"
   ]
  },
  {
   "cell_type": "code",
   "execution_count": 14,
   "metadata": {
    "colab": {
     "base_uri": "https://localhost:8080/"
    },
    "executionInfo": {
     "elapsed": 342,
     "status": "ok",
     "timestamp": 1635375118944,
     "user": {
      "displayName": "Berkalp Altay",
      "photoUrl": "https://lh3.googleusercontent.com/a/default-user=s64",
      "userId": "04046920140933595149"
     },
     "user_tz": 240
    },
    "id": "gjcgfOUdBq4i",
    "outputId": "356450fe-0b5c-4c3c-d516-408afbf6dced"
   },
   "outputs": [
    {
     "name": "stdout",
     "output_type": "stream",
     "text": [
      "{'model__class_weight': 'balanced', 'model__penalty': 'none'}\n"
     ]
    }
   ],
   "source": [
    "#Print best parameters\n",
    "print(lr_grid.best_params_)"
   ]
  },
  {
   "cell_type": "code",
   "execution_count": 15,
   "metadata": {
    "colab": {
     "base_uri": "https://localhost:8080/"
    },
    "executionInfo": {
     "elapsed": 293,
     "status": "ok",
     "timestamp": 1635375122403,
     "user": {
      "displayName": "Berkalp Altay",
      "photoUrl": "https://lh3.googleusercontent.com/a/default-user=s64",
      "userId": "04046920140933595149"
     },
     "user_tz": 240
    },
    "id": "N6cAfglZB05N",
    "outputId": "bbfe3e21-017e-445c-d160-441da42e376c"
   },
   "outputs": [
    {
     "name": "stdout",
     "output_type": "stream",
     "text": [
      "LR + GridSearchCV F1: 0.46147919876733434\n"
     ]
    }
   ],
   "source": [
    "#Predict using fitted LR + GridSearchCV model\n",
    "lr_grid_preds = lr_grid.best_estimator_.predict(X_test)\n",
    "\n",
    "lr_grid_f1 = f1_score(y_test, lr_grid_preds)\n",
    "print(\"LR + GridSearchCV F1:\",lr_grid_f1)"
   ]
  },
  {
   "cell_type": "code",
   "execution_count": 16,
   "metadata": {
    "colab": {
     "base_uri": "https://localhost:8080/",
     "height": 142
    },
    "executionInfo": {
     "elapsed": 664,
     "status": "ok",
     "timestamp": 1635375706040,
     "user": {
      "displayName": "Berkalp Altay",
      "photoUrl": "https://lh3.googleusercontent.com/a/default-user=s64",
      "userId": "04046920140933595149"
     },
     "user_tz": 240
    },
    "id": "00RCNCMWCHAc",
    "outputId": "a717fb83-2273-4dd9-bb6f-0f0adaf66259"
   },
   "outputs": [
    {
     "data": {
      "text/html": [
       "<div>\n",
       "<style scoped>\n",
       "    .dataframe tbody tr th:only-of-type {\n",
       "        vertical-align: middle;\n",
       "    }\n",
       "\n",
       "    .dataframe tbody tr th {\n",
       "        vertical-align: top;\n",
       "    }\n",
       "\n",
       "    .dataframe thead th {\n",
       "        text-align: right;\n",
       "    }\n",
       "</style>\n",
       "<table border=\"1\" class=\"dataframe\">\n",
       "  <thead>\n",
       "    <tr style=\"text-align: right;\">\n",
       "      <th></th>\n",
       "      <th>F1</th>\n",
       "    </tr>\n",
       "  </thead>\n",
       "  <tbody>\n",
       "    <tr>\n",
       "      <th>LR</th>\n",
       "      <td>0.315102</td>\n",
       "    </tr>\n",
       "    <tr>\n",
       "      <th>LR + GridSearchCV</th>\n",
       "      <td>0.461479</td>\n",
       "    </tr>\n",
       "  </tbody>\n",
       "</table>\n",
       "</div>"
      ],
      "text/plain": [
       "                         F1\n",
       "LR                 0.315102\n",
       "LR + GridSearchCV  0.461479"
      ]
     },
     "execution_count": 16,
     "metadata": {},
     "output_type": "execute_result"
    }
   ],
   "source": [
    "#Store results\n",
    "results.loc[\"LR + GridSearchCV\"] = lr_grid_f1\n",
    "results"
   ]
  },
  {
   "cell_type": "markdown",
   "metadata": {
    "id": "J4eSNuRKzcns"
   },
   "source": [
    "With GridSearchCV and hyperparameter tuning, the LR model substantially improves to an F1 score of **0.4615** from the original F1 score of 0.3151."
   ]
  },
  {
   "cell_type": "markdown",
   "metadata": {},
   "source": [
    "In particular, two hyperparameters were tuned. First, the best model penealty was none, meaning no regularization was better than either L1 or L2 regularization. \n",
    "\n",
    "Second, the best class weight hyperparameter was \"balanced\". This means that the model adjusts weights given to target classes (i.e. no or yes) to give more weight to the less frequent class. \n",
    "According to the scikit-learn documentation, it's  n_samples / (n_classes * np.bincount(y)).\n",
    "\n",
    "* scikit-learn doc: https://scikit-learn.org/stable/modules/generated/sklearn.linear_model.LogisticRegression.html\n"
   ]
  },
  {
   "cell_type": "markdown",
   "metadata": {},
   "source": [
    "<h3> 4.3. Random Forest </h3>\n",
    "\n",
    "Next, I will use a Random Forest model. I will use the default RandomForestClassifier model from scikit-learn package."
   ]
  },
  {
   "cell_type": "code",
   "execution_count": 17,
   "metadata": {},
   "outputs": [],
   "source": [
    "#define Random Forest pipe\n",
    "pipe_rf = Pipeline([(\"scaler\", StandardScaler()),\n",
    "                     (\"model\", RandomForestClassifier(random_state = 42, \n",
    "                                                      n_jobs=-1))\n",
    "                        \n",
    "])"
   ]
  },
  {
   "cell_type": "code",
   "execution_count": 18,
   "metadata": {},
   "outputs": [
    {
     "name": "stdout",
     "output_type": "stream",
     "text": [
      "\n",
      "Time elapsed: 0.0 hours 1.0 minutes and 9.0 seconds\n"
     ]
    }
   ],
   "source": [
    "#fit Random Forest pipe\n",
    "start_time = time.perf_counter()\n",
    "\n",
    "pipe_rf.fit(X_train, y_train)\n",
    "\n",
    "end_time = time.perf_counter()\n",
    "print_time(start_time, end_time)"
   ]
  },
  {
   "cell_type": "code",
   "execution_count": 19,
   "metadata": {},
   "outputs": [
    {
     "name": "stdout",
     "output_type": "stream",
     "text": [
      "Random Forest F1: 0.37987243090007083\n"
     ]
    }
   ],
   "source": [
    "#Predict using fitted Random Forest model\n",
    "rf_preds = pipe_rf.predict(X_test)\n",
    "\n",
    "rf_f1 = f1_score(y_test, rf_preds)\n",
    "print(\"Random Forest F1:\", rf_f1)"
   ]
  },
  {
   "cell_type": "code",
   "execution_count": 20,
   "metadata": {},
   "outputs": [
    {
     "data": {
      "text/html": [
       "<div>\n",
       "<style scoped>\n",
       "    .dataframe tbody tr th:only-of-type {\n",
       "        vertical-align: middle;\n",
       "    }\n",
       "\n",
       "    .dataframe tbody tr th {\n",
       "        vertical-align: top;\n",
       "    }\n",
       "\n",
       "    .dataframe thead th {\n",
       "        text-align: right;\n",
       "    }\n",
       "</style>\n",
       "<table border=\"1\" class=\"dataframe\">\n",
       "  <thead>\n",
       "    <tr style=\"text-align: right;\">\n",
       "      <th></th>\n",
       "      <th>F1</th>\n",
       "    </tr>\n",
       "  </thead>\n",
       "  <tbody>\n",
       "    <tr>\n",
       "      <th>LR</th>\n",
       "      <td>0.315102</td>\n",
       "    </tr>\n",
       "    <tr>\n",
       "      <th>LR + GridSearchCV</th>\n",
       "      <td>0.461479</td>\n",
       "    </tr>\n",
       "    <tr>\n",
       "      <th>Random Forest</th>\n",
       "      <td>0.379872</td>\n",
       "    </tr>\n",
       "  </tbody>\n",
       "</table>\n",
       "</div>"
      ],
      "text/plain": [
       "                         F1\n",
       "LR                 0.315102\n",
       "LR + GridSearchCV  0.461479\n",
       "Random Forest      0.379872"
      ]
     },
     "execution_count": 20,
     "metadata": {},
     "output_type": "execute_result"
    }
   ],
   "source": [
    "#Store results\n",
    "results.loc[\"Random Forest\"] = rf_f1\n",
    "results"
   ]
  },
  {
   "cell_type": "markdown",
   "metadata": {},
   "source": [
    "We see that Random Forest classifier gives us an F1 score of **0.3799**. This is higher than Logistic Regression alone but lower than Logistic Regression with hyperparameter tuning and cross validation."
   ]
  },
  {
   "cell_type": "markdown",
   "metadata": {},
   "source": [
    "<h3> 4.4. Extreme Gradient Boosting (XGBoost) </h3>\n",
    "\n",
    "Next, I will use an XGBoost model. I will use the default XGBClassifier model from xgboost package.\n",
    "\n",
    "In the next section, I will use hyperparameter tuning and cross validation to improve results."
   ]
  },
  {
   "cell_type": "code",
   "execution_count": 21,
   "metadata": {},
   "outputs": [],
   "source": [
    "#define XGBoost pipe\n",
    "pipe_xgb = Pipeline([(\"scaler\", StandardScaler()),\n",
    "                     (\"model\", XGBClassifier(random_state = 42, \n",
    "                                            n_jobs=-1))\n",
    "                        \n",
    "])\n",
    "\n",
    "#custom f1 score evalution metric\n",
    "#source: https://stackoverflow.com/questions/51587535/custom-evaluation-function-based-on-f1-for-use-in-xgboost-python-api\n",
    "def f1_eval(y_pred, dtrain):\n",
    "    y_true = dtrain.get_label()\n",
    "    error = 1-f1_score(y_true, np.round(y_pred))\n",
    "    return 'f1_error', error"
   ]
  },
  {
   "cell_type": "code",
   "execution_count": 22,
   "metadata": {},
   "outputs": [
    {
     "name": "stdout",
     "output_type": "stream",
     "text": [
      "\n",
      "Time elapsed: 0.0 hours 0.0 minutes and 3.0 seconds\n"
     ]
    }
   ],
   "source": [
    "#fit XGBoost pipe\n",
    "start_time = time.perf_counter()\n",
    "\n",
    "pipe_xgb.fit(X_train, y_train, model__eval_metric = f1_eval)\n",
    "\n",
    "end_time = time.perf_counter()\n",
    "print_time(start_time, end_time)"
   ]
  },
  {
   "cell_type": "code",
   "execution_count": 23,
   "metadata": {},
   "outputs": [
    {
     "name": "stdout",
     "output_type": "stream",
     "text": [
      "XGBoost RMSE: 0.35011269722013527\n"
     ]
    }
   ],
   "source": [
    "#Predict using fitted XGBoost model\n",
    "xgb_preds = pipe_xgb.predict(X_test)\n",
    "\n",
    "xgb_f1 = f1_score(y_test, xgb_preds)\n",
    "print(\"XGBoost RMSE:\",xgb_f1)"
   ]
  },
  {
   "cell_type": "code",
   "execution_count": 24,
   "metadata": {},
   "outputs": [
    {
     "data": {
      "text/html": [
       "<div>\n",
       "<style scoped>\n",
       "    .dataframe tbody tr th:only-of-type {\n",
       "        vertical-align: middle;\n",
       "    }\n",
       "\n",
       "    .dataframe tbody tr th {\n",
       "        vertical-align: top;\n",
       "    }\n",
       "\n",
       "    .dataframe thead th {\n",
       "        text-align: right;\n",
       "    }\n",
       "</style>\n",
       "<table border=\"1\" class=\"dataframe\">\n",
       "  <thead>\n",
       "    <tr style=\"text-align: right;\">\n",
       "      <th></th>\n",
       "      <th>F1</th>\n",
       "    </tr>\n",
       "  </thead>\n",
       "  <tbody>\n",
       "    <tr>\n",
       "      <th>LR</th>\n",
       "      <td>0.315102</td>\n",
       "    </tr>\n",
       "    <tr>\n",
       "      <th>LR + GridSearchCV</th>\n",
       "      <td>0.461479</td>\n",
       "    </tr>\n",
       "    <tr>\n",
       "      <th>Random Forest</th>\n",
       "      <td>0.379872</td>\n",
       "    </tr>\n",
       "    <tr>\n",
       "      <th>XGBoost</th>\n",
       "      <td>0.350113</td>\n",
       "    </tr>\n",
       "  </tbody>\n",
       "</table>\n",
       "</div>"
      ],
      "text/plain": [
       "                         F1\n",
       "LR                 0.315102\n",
       "LR + GridSearchCV  0.461479\n",
       "Random Forest      0.379872\n",
       "XGBoost            0.350113"
      ]
     },
     "execution_count": 24,
     "metadata": {},
     "output_type": "execute_result"
    }
   ],
   "source": [
    "#Store results\n",
    "results.loc[\"XGBoost\"] = xgb_f1\n",
    "results"
   ]
  },
  {
   "cell_type": "markdown",
   "metadata": {},
   "source": [
    "We see that XGBoost classifier gives us an F1 score of **0.3501**. This is higher than Logistic Regression alone but lower than Random Forest and Logistic Regression with hyperparameter tuning and cross validation."
   ]
  },
  {
   "cell_type": "markdown",
   "metadata": {},
   "source": [
    "## <h3> 4.5. Extreme Gradient Boosting (XGBoost) with BayesSearchCV</h3>\n",
    "\n",
    "Now, I will optimize some hyperparameters of the Extreme Gradient Boosting (XGBoost) model using BayesSearchCV. BayesSearchCV from scikit-optimize library is used to conduct Bayesian optimization with cross validation."
   ]
  },
  {
   "cell_type": "code",
   "execution_count": 25,
   "metadata": {},
   "outputs": [],
   "source": [
    "#Define XGBoost + BayesSearchCV pipe\n",
    "pipe_xgb_bo = Pipeline([(\"scaler\", StandardScaler()),\n",
    "                        (\"model\", XGBClassifier(random_state = 42,\n",
    "                                                n_jobs= -1))\n",
    "                        \n",
    "])\n",
    "#Define parameter space\n",
    "params_xgb_bo = {'model__n_estimators': space.Integer(100, 1000, 'log-uniform'),\n",
    "                 'model__learning_rate': space.Real(10e-6, 1.0, 'log-uniform'),\n",
    "                 'model__scale_pos_weight': space.Real(1, 50, 'uniform')\n",
    "                 #'model__max_depth': space.Integer(0, 50, 'uniform')\n",
    "                }\n",
    "\n",
    "#fit_params_xgb_bo = {'model__eval_metric': f1_eval}\n",
    "\n",
    "#use n_jobs = -1 to use all processors\n",
    "xgb_bo = BayesSearchCV(pipe_xgb_bo, \n",
    "                       params_xgb_bo, \n",
    "                       n_iter=50,\n",
    "                       n_jobs=-1,\n",
    "                       cv=10, \n",
    "                       random_state = 42,\n",
    "                       scoring='f1')"
   ]
  },
  {
   "cell_type": "code",
   "execution_count": 26,
   "metadata": {},
   "outputs": [
    {
     "name": "stdout",
     "output_type": "stream",
     "text": [
      "\n",
      "Time elapsed: 3.0 hours 31.0 minutes and 17.0 seconds\n"
     ]
    }
   ],
   "source": [
    "#Fit XGBoost + BayesSearchCV\n",
    "start_time = time.perf_counter()\n",
    "\n",
    "xgb_bo.fit(X_train, y_train, model__eval_metric = f1_eval)\n",
    "\n",
    "end_time = time.perf_counter()\n",
    "print_time(start_time, end_time)"
   ]
  },
  {
   "cell_type": "code",
   "execution_count": 27,
   "metadata": {},
   "outputs": [
    {
     "name": "stdout",
     "output_type": "stream",
     "text": [
      "OrderedDict([('model__learning_rate', 0.0026078937930507206), ('model__n_estimators', 1000), ('model__scale_pos_weight', 4.832926191155792)])\n"
     ]
    }
   ],
   "source": [
    "#Print best parameters\n",
    "print(xgb_bo.best_params_)"
   ]
  },
  {
   "cell_type": "code",
   "execution_count": 28,
   "metadata": {},
   "outputs": [
    {
     "name": "stdout",
     "output_type": "stream",
     "text": [
      "XGBoost + BayesSearchCV F1: 0.5280151946818613\n"
     ]
    }
   ],
   "source": [
    "#Predict using fitted XGBoost + BayesSearchCV model\n",
    "xgb_bo_preds = xgb_bo.best_estimator_.predict(X_test)\n",
    "\n",
    "xgb_bo_f1 = f1_score(y_test, xgb_bo_preds)\n",
    "print(\"XGBoost + BayesSearchCV F1:\",xgb_bo_f1)"
   ]
  },
  {
   "cell_type": "code",
   "execution_count": 29,
   "metadata": {},
   "outputs": [
    {
     "data": {
      "text/html": [
       "<div>\n",
       "<style scoped>\n",
       "    .dataframe tbody tr th:only-of-type {\n",
       "        vertical-align: middle;\n",
       "    }\n",
       "\n",
       "    .dataframe tbody tr th {\n",
       "        vertical-align: top;\n",
       "    }\n",
       "\n",
       "    .dataframe thead th {\n",
       "        text-align: right;\n",
       "    }\n",
       "</style>\n",
       "<table border=\"1\" class=\"dataframe\">\n",
       "  <thead>\n",
       "    <tr style=\"text-align: right;\">\n",
       "      <th></th>\n",
       "      <th>F1</th>\n",
       "    </tr>\n",
       "  </thead>\n",
       "  <tbody>\n",
       "    <tr>\n",
       "      <th>LR</th>\n",
       "      <td>0.315102</td>\n",
       "    </tr>\n",
       "    <tr>\n",
       "      <th>LR + GridSearchCV</th>\n",
       "      <td>0.461479</td>\n",
       "    </tr>\n",
       "    <tr>\n",
       "      <th>Random Forest</th>\n",
       "      <td>0.379872</td>\n",
       "    </tr>\n",
       "    <tr>\n",
       "      <th>XGBoost</th>\n",
       "      <td>0.350113</td>\n",
       "    </tr>\n",
       "    <tr>\n",
       "      <th>XGBoost + BayesSearchCV</th>\n",
       "      <td>0.528015</td>\n",
       "    </tr>\n",
       "  </tbody>\n",
       "</table>\n",
       "</div>"
      ],
      "text/plain": [
       "                               F1\n",
       "LR                       0.315102\n",
       "LR + GridSearchCV        0.461479\n",
       "Random Forest            0.379872\n",
       "XGBoost                  0.350113\n",
       "XGBoost + BayesSearchCV  0.528015"
      ]
     },
     "execution_count": 29,
     "metadata": {},
     "output_type": "execute_result"
    }
   ],
   "source": [
    "#Store results\n",
    "results.loc[\"XGBoost + BayesSearchCV\"] = xgb_bo_f1\n",
    "results"
   ]
  },
  {
   "cell_type": "markdown",
   "metadata": {},
   "source": [
    "XGBoost classifier with BayesSearchCV gives us an F1 score of **0.5280**. This is higher than all other models developed so far.\n",
    "\n",
    "The training time was around 3.5 hours, significantly higher than others."
   ]
  },
  {
   "cell_type": "markdown",
   "metadata": {
    "id": "vAfRvym59FXx"
   },
   "source": [
    "Let's save the Results set so that we can use it later."
   ]
  },
  {
   "cell_type": "code",
   "execution_count": 30,
   "metadata": {
    "id": "fX5iGgFM9qwl"
   },
   "outputs": [],
   "source": [
    "#Save model results as a csv file\n",
    "results.to_csv('data/model_results.csv', index=True)"
   ]
  },
  {
   "cell_type": "markdown",
   "metadata": {
    "id": "YxpfGbvx6bQm"
   },
   "source": []
  }
 ],
 "metadata": {
  "accelerator": "GPU",
  "colab": {
   "authorship_tag": "ABX9TyOHspP2QE2Shl6dq/d+asoc",
   "collapsed_sections": [],
   "name": "3. Preprocessing & Modeling Part 1.ipynb",
   "provenance": [
    {
     "file_id": "1Dks0BxGpnhyEtRwFMVYREH33nVMybcnh",
     "timestamp": 1635012694681
    }
   ],
   "toc_visible": true
  },
  "kernelspec": {
   "display_name": "Python 3",
   "language": "python",
   "name": "python3"
  },
  "language_info": {
   "codemirror_mode": {
    "name": "ipython",
    "version": 3
   },
   "file_extension": ".py",
   "mimetype": "text/x-python",
   "name": "python",
   "nbconvert_exporter": "python",
   "pygments_lexer": "ipython3",
   "version": "3.8.8"
  }
 },
 "nbformat": 4,
 "nbformat_minor": 1
}
