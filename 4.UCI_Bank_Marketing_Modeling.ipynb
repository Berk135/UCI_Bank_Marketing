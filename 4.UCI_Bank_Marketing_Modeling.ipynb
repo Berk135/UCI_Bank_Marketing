{
 "cells": [
  {
   "cell_type": "markdown",
   "metadata": {
    "id": "OglheQSLs4Mj"
   },
   "source": [
    "# <h2> 4. Modeling </h2>\n",
    "\n",
    "In the modeling phase, I will start with a base model of logistic regression. Since this is a classification task in which there is an imbalance in the dependent variable, I will use F1-score as the metric for evaluation with higher F1 scores indicating better models. In all of the models I will use **Cross-Validation** with **10** folds and take the mean F1-score of all 10 results for evaluation purposes. "
   ]
  },
  {
   "cell_type": "markdown",
   "metadata": {},
   "source": [
    "There are two version of the data sets: one with PCA-derived variables and one without."
   ]
  },
  {
   "cell_type": "code",
   "execution_count": 1,
   "metadata": {},
   "outputs": [],
   "source": [
    "#Importing required libraries\n",
    "import pandas as pd\n",
    "import numpy as np\n",
    "import matplotlib.pyplot as plt\n",
    "import seaborn as sns\n",
    "import time\n",
    "\n",
    "#Define a timer\n",
    "def print_time(start_time, end_time):\n",
    "    elapsed_time = end_time - start_time\n",
    "    hours = elapsed_time // 3600\n",
    "    mins = (elapsed_time - hours*3600)//60\n",
    "    secs = (elapsed_time - hours*3600 - mins*60) // 1\n",
    "    \n",
    "    return print(\"\\nTime elapsed: {} hours {} minutes and {} seconds\".format(hours, mins, secs))\n",
    "\n",
    "\n",
    "import warnings\n",
    "warnings.filterwarnings(\"ignore\")"
   ]
  },
  {
   "cell_type": "code",
   "execution_count": 2,
   "metadata": {
    "colab": {
     "base_uri": "https://localhost:8080/",
     "height": 224
    },
    "executionInfo": {
     "elapsed": 383,
     "status": "ok",
     "timestamp": 1635375028925,
     "user": {
      "displayName": "Berkalp Altay",
      "photoUrl": "https://lh3.googleusercontent.com/a/default-user=s64",
      "userId": "04046920140933595149"
     },
     "user_tz": 240
    },
    "id": "7WkfuEXE7_mu",
    "outputId": "443f02e0-cdd1-4515-d813-c96d37be04ab"
   },
   "outputs": [
    {
     "data": {
      "text/html": [
       "<div>\n",
       "<style scoped>\n",
       "    .dataframe tbody tr th:only-of-type {\n",
       "        vertical-align: middle;\n",
       "    }\n",
       "\n",
       "    .dataframe tbody tr th {\n",
       "        vertical-align: top;\n",
       "    }\n",
       "\n",
       "    .dataframe thead th {\n",
       "        text-align: right;\n",
       "    }\n",
       "</style>\n",
       "<table border=\"1\" class=\"dataframe\">\n",
       "  <thead>\n",
       "    <tr style=\"text-align: right;\">\n",
       "      <th></th>\n",
       "      <th>cement</th>\n",
       "      <th>slag</th>\n",
       "      <th>ash</th>\n",
       "      <th>water</th>\n",
       "      <th>superplasticizer</th>\n",
       "      <th>coarse_agg</th>\n",
       "      <th>fine_agg</th>\n",
       "      <th>age</th>\n",
       "      <th>strength</th>\n",
       "    </tr>\n",
       "  </thead>\n",
       "  <tbody>\n",
       "    <tr>\n",
       "      <th>0</th>\n",
       "      <td>540.0</td>\n",
       "      <td>0.0</td>\n",
       "      <td>0.0</td>\n",
       "      <td>162.0</td>\n",
       "      <td>2.5</td>\n",
       "      <td>1040.0</td>\n",
       "      <td>676.0</td>\n",
       "      <td>28</td>\n",
       "      <td>79.986111</td>\n",
       "    </tr>\n",
       "    <tr>\n",
       "      <th>1</th>\n",
       "      <td>540.0</td>\n",
       "      <td>0.0</td>\n",
       "      <td>0.0</td>\n",
       "      <td>162.0</td>\n",
       "      <td>2.5</td>\n",
       "      <td>1055.0</td>\n",
       "      <td>676.0</td>\n",
       "      <td>28</td>\n",
       "      <td>61.887366</td>\n",
       "    </tr>\n",
       "    <tr>\n",
       "      <th>2</th>\n",
       "      <td>332.5</td>\n",
       "      <td>142.5</td>\n",
       "      <td>0.0</td>\n",
       "      <td>228.0</td>\n",
       "      <td>0.0</td>\n",
       "      <td>932.0</td>\n",
       "      <td>594.0</td>\n",
       "      <td>270</td>\n",
       "      <td>40.269535</td>\n",
       "    </tr>\n",
       "    <tr>\n",
       "      <th>3</th>\n",
       "      <td>332.5</td>\n",
       "      <td>142.5</td>\n",
       "      <td>0.0</td>\n",
       "      <td>228.0</td>\n",
       "      <td>0.0</td>\n",
       "      <td>932.0</td>\n",
       "      <td>594.0</td>\n",
       "      <td>365</td>\n",
       "      <td>41.052780</td>\n",
       "    </tr>\n",
       "    <tr>\n",
       "      <th>4</th>\n",
       "      <td>198.6</td>\n",
       "      <td>132.4</td>\n",
       "      <td>0.0</td>\n",
       "      <td>192.0</td>\n",
       "      <td>0.0</td>\n",
       "      <td>978.4</td>\n",
       "      <td>825.5</td>\n",
       "      <td>360</td>\n",
       "      <td>44.296075</td>\n",
       "    </tr>\n",
       "  </tbody>\n",
       "</table>\n",
       "</div>"
      ],
      "text/plain": [
       "   cement   slag  ash  water  superplasticizer  coarse_agg  fine_agg  age  \\\n",
       "0   540.0    0.0  0.0  162.0               2.5      1040.0     676.0   28   \n",
       "1   540.0    0.0  0.0  162.0               2.5      1055.0     676.0   28   \n",
       "2   332.5  142.5  0.0  228.0               0.0       932.0     594.0  270   \n",
       "3   332.5  142.5  0.0  228.0               0.0       932.0     594.0  365   \n",
       "4   198.6  132.4  0.0  192.0               0.0       978.4     825.5  360   \n",
       "\n",
       "    strength  \n",
       "0  79.986111  \n",
       "1  61.887366  \n",
       "2  40.269535  \n",
       "3  41.052780  \n",
       "4  44.296075  "
      ]
     },
     "execution_count": 2,
     "metadata": {},
     "output_type": "execute_result"
    }
   ],
   "source": [
    "#Load data set\n",
    "df = pd.read_csv(\"saved_files/concrete.csv\")\n",
    "df.head()"
   ]
  },
  {
   "cell_type": "code",
   "execution_count": 3,
   "metadata": {
    "colab": {
     "base_uri": "https://localhost:8080/"
    },
    "executionInfo": {
     "elapsed": 4,
     "status": "ok",
     "timestamp": 1635375031837,
     "user": {
      "displayName": "Berkalp Altay",
      "photoUrl": "https://lh3.googleusercontent.com/a/default-user=s64",
      "userId": "04046920140933595149"
     },
     "user_tz": 240
    },
    "id": "hFbeFCz0_Lko",
    "outputId": "80460d28-2cc1-413a-b6da-d5f21bc3936f"
   },
   "outputs": [
    {
     "name": "stdout",
     "output_type": "stream",
     "text": [
      "0    79.986111\n",
      "1    61.887366\n",
      "2    40.269535\n",
      "3    41.052780\n",
      "4    44.296075\n",
      "Name: strength, dtype: float64\n",
      "   cement   slag  ash  water  superplasticizer  coarse_agg  fine_agg  age\n",
      "0   540.0    0.0  0.0  162.0               2.5      1040.0     676.0   28\n",
      "1   540.0    0.0  0.0  162.0               2.5      1055.0     676.0   28\n",
      "2   332.5  142.5  0.0  228.0               0.0       932.0     594.0  270\n",
      "3   332.5  142.5  0.0  228.0               0.0       932.0     594.0  365\n",
      "4   198.6  132.4  0.0  192.0               0.0       978.4     825.5  360\n"
     ]
    }
   ],
   "source": [
    "#separate inputs from target\n",
    "X = df.drop('strength', axis=1)\n",
    "y = df['strength']\n",
    "#check X and y\n",
    "print(y.head())\n",
    "print(X.head())"
   ]
  },
  {
   "cell_type": "code",
   "execution_count": 4,
   "metadata": {
    "colab": {
     "base_uri": "https://localhost:8080/"
    },
    "executionInfo": {
     "elapsed": 362,
     "status": "ok",
     "timestamp": 1635375037557,
     "user": {
      "displayName": "Berkalp Altay",
      "photoUrl": "https://lh3.googleusercontent.com/a/default-user=s64",
      "userId": "04046920140933595149"
     },
     "user_tz": 240
    },
    "id": "7-H595qBoDut",
    "outputId": "f6aabb51-ad93-4a6b-94f6-de2ddde6888f"
   },
   "outputs": [
    {
     "name": "stdout",
     "output_type": "stream",
     "text": [
      "Dimensions of X_train:  (824, 8)\n",
      "Dimensions of X_test:  (206, 8)\n",
      "Dimensions of y_train:  (824,)\n",
      "Dimensions of y_test:  (206,)\n"
     ]
    }
   ],
   "source": [
    "#split test and train sets\n",
    "X_train, X_test, y_train, y_test = train_test_split(X, y, train_size = 0.8, random_state = 10)\n",
    "print(\"Dimensions of X_train: \", X_train.shape)\n",
    "print(\"Dimensions of X_test: \", X_test.shape)\n",
    "print(\"Dimensions of y_train: \", y_train.shape)\n",
    "print(\"Dimensions of y_test: \", y_test.shape)"
   ]
  },
  {
   "cell_type": "code",
   "execution_count": 5,
   "metadata": {
    "colab": {
     "base_uri": "https://localhost:8080/"
    },
    "executionInfo": {
     "elapsed": 8,
     "status": "ok",
     "timestamp": 1635375038543,
     "user": {
      "displayName": "Berkalp Altay",
      "photoUrl": "https://lh3.googleusercontent.com/a/default-user=s64",
      "userId": "04046920140933595149"
     },
     "user_tz": 240
    },
    "id": "NvYLGyarpWUd",
    "outputId": "015c5a26-fb8b-4b04-cd36-94d066328a55"
   },
   "outputs": [
    {
     "name": "stdout",
     "output_type": "stream",
     "text": [
      "       cement      slag       ash     water  superplasticizer  coarse_agg  \\\n",
      "34  -0.865837  1.347685 -0.843242  2.135043         -1.022928   -0.505706   \n",
      "124  1.017125  0.269264 -0.843242 -1.099486          0.973077   -1.534705   \n",
      "712 -0.846875  2.485310 -0.843242  0.473944         -1.022928   -0.534039   \n",
      "859 -1.112348 -0.857913  2.253563 -0.033614          1.121540   -1.574628   \n",
      "176  0.930846  0.897279 -0.843242 -1.284053          1.599921    2.099629   \n",
      "\n",
      "     fine_agg       age  \n",
      "34  -1.278181  5.025699  \n",
      "124  1.874127 -0.282935  \n",
      "712 -0.709853 -0.613741  \n",
      "859  0.891573 -0.282935  \n",
      "176 -2.079511  0.709480  \n"
     ]
    }
   ],
   "source": [
    "#Standardize input variables\n",
    "X_train_scaled = (X_train - X_train.mean(axis = 0))/X_train.std(axis = 0)\n",
    "print(X_train_scaled.head())"
   ]
  },
  {
   "cell_type": "markdown",
   "metadata": {
    "id": "dBvMTjDzsuSU"
   },
   "source": [
    "While I've already standardized the data, I won't directly use the standardized data set since I'll use the *StandardScaler* function in pipelines in the modeling phase."
   ]
  },
  {
   "cell_type": "code",
   "execution_count": 6,
   "metadata": {
    "id": "4RE73tGOvRs_"
   },
   "outputs": [],
   "source": [
    "#import models & other required packages\n",
    "from sklearn.preprocessing import StandardScaler\n",
    "from sklearn.pipeline import Pipeline\n",
    "from sklearn.metrics import mean_squared_error\n",
    "\n",
    "from sklearn.linear_model import LinearRegression\n",
    "from sklearn.neighbors import KNeighborsRegressor\n",
    "from sklearn.model_selection import GridSearchCV"
   ]
  },
  {
   "cell_type": "markdown",
   "metadata": {
    "id": "tEXBQeMYu4Tm"
   },
   "source": [
    "## <h3> 4.1. Linear Regression </h3>\n",
    "\n"
   ]
  },
  {
   "cell_type": "code",
   "execution_count": 7,
   "metadata": {
    "id": "a3dVo6Fiqr_1"
   },
   "outputs": [],
   "source": [
    "#define Linear Regression pipe\n",
    "pipe_linreg = Pipeline([(\"scaler\", StandardScaler()),\n",
    "                        (\"model\", LinearRegression())\n",
    "                        \n",
    "])"
   ]
  },
  {
   "cell_type": "code",
   "execution_count": 8,
   "metadata": {
    "colab": {
     "base_uri": "https://localhost:8080/"
    },
    "executionInfo": {
     "elapsed": 322,
     "status": "ok",
     "timestamp": 1635375050973,
     "user": {
      "displayName": "Berkalp Altay",
      "photoUrl": "https://lh3.googleusercontent.com/a/default-user=s64",
      "userId": "04046920140933595149"
     },
     "user_tz": 240
    },
    "id": "7lHQhpu9w2E-",
    "outputId": "e57da3ea-d5ef-4fc9-f4ec-776280c8fb2f"
   },
   "outputs": [
    {
     "name": "stdout",
     "output_type": "stream",
     "text": [
      "\n",
      "Time elapsed: 0.0 hours 0.0 minutes and 0.0 seconds\n"
     ]
    }
   ],
   "source": [
    "#fit Linear Regression pipe\n",
    "start_time = time.perf_counter()\n",
    "\n",
    "pipe_linreg.fit(X_train, y_train)\n",
    "\n",
    "end_time = time.perf_counter()\n",
    "print_time(start_time, end_time)\n"
   ]
  },
  {
   "cell_type": "code",
   "execution_count": 9,
   "metadata": {
    "colab": {
     "base_uri": "https://localhost:8080/"
    },
    "executionInfo": {
     "elapsed": 5,
     "status": "ok",
     "timestamp": 1635375052823,
     "user": {
      "displayName": "Berkalp Altay",
      "photoUrl": "https://lh3.googleusercontent.com/a/default-user=s64",
      "userId": "04046920140933595149"
     },
     "user_tz": 240
    },
    "id": "gluypleX0lYl",
    "outputId": "1d1dbb69-b1f5-471d-93a8-70f309681e49"
   },
   "outputs": [
    {
     "name": "stdout",
     "output_type": "stream",
     "text": [
      "Linear Regression RMSE: 10.659515359643427\n"
     ]
    }
   ],
   "source": [
    "#Predict using fitted Linear Regression model\n",
    "linreg_preds = pipe_linreg.predict(X_test)\n",
    "\n",
    "linreg_rmse = mean_squared_error(y_test, linreg_preds, squared = False)\n",
    "print(\"Linear Regression RMSE:\",linreg_rmse)"
   ]
  },
  {
   "cell_type": "code",
   "execution_count": 10,
   "metadata": {
    "colab": {
     "base_uri": "https://localhost:8080/",
     "height": 80
    },
    "executionInfo": {
     "elapsed": 326,
     "status": "ok",
     "timestamp": 1635375695302,
     "user": {
      "displayName": "Berkalp Altay",
      "photoUrl": "https://lh3.googleusercontent.com/a/default-user=s64",
      "userId": "04046920140933595149"
     },
     "user_tz": 240
    },
    "id": "GpGJsP3O31tL",
    "outputId": "f271a6e2-12b2-4baf-c887-43fc9c2c8e2b"
   },
   "outputs": [
    {
     "data": {
      "text/html": [
       "<div>\n",
       "<style scoped>\n",
       "    .dataframe tbody tr th:only-of-type {\n",
       "        vertical-align: middle;\n",
       "    }\n",
       "\n",
       "    .dataframe tbody tr th {\n",
       "        vertical-align: top;\n",
       "    }\n",
       "\n",
       "    .dataframe thead th {\n",
       "        text-align: right;\n",
       "    }\n",
       "</style>\n",
       "<table border=\"1\" class=\"dataframe\">\n",
       "  <thead>\n",
       "    <tr style=\"text-align: right;\">\n",
       "      <th></th>\n",
       "      <th>RMSE</th>\n",
       "    </tr>\n",
       "  </thead>\n",
       "  <tbody>\n",
       "    <tr>\n",
       "      <th>Linear Regression</th>\n",
       "      <td>10.659515</td>\n",
       "    </tr>\n",
       "  </tbody>\n",
       "</table>\n",
       "</div>"
      ],
      "text/plain": [
       "                        RMSE\n",
       "Linear Regression  10.659515"
      ]
     },
     "execution_count": 10,
     "metadata": {},
     "output_type": "execute_result"
    }
   ],
   "source": [
    "#Store results\n",
    "results = pd.DataFrame({\"RMSE\" : linreg_rmse}, index = [\"Linear Regression\"])\n",
    "results"
   ]
  },
  {
   "cell_type": "code",
   "execution_count": 11,
   "metadata": {
    "colab": {
     "base_uri": "https://localhost:8080/"
    },
    "executionInfo": {
     "elapsed": 345,
     "status": "ok",
     "timestamp": 1635375100172,
     "user": {
      "displayName": "Berkalp Altay",
      "photoUrl": "https://lh3.googleusercontent.com/a/default-user=s64",
      "userId": "04046920140933595149"
     },
     "user_tz": 240
    },
    "id": "1cnsM6Ms5WKa",
    "outputId": "3746bdd4-907a-42b6-8c94-01973e22ae17"
   },
   "outputs": [
    {
     "data": {
      "text/plain": [
       "35.81783582611362"
      ]
     },
     "execution_count": 11,
     "metadata": {},
     "output_type": "execute_result"
    }
   ],
   "source": [
    "#for reference, please see the mean compressive strength of concrete\n",
    "df[\"strength\"].mean()"
   ]
  },
  {
   "cell_type": "markdown",
   "metadata": {
    "id": "KUIJzDtc5R3L"
   },
   "source": [
    "The base Linear Regression Model gives an RMSE of **10.66**. Now, I will look at other models to improve the RMSE."
   ]
  },
  {
   "cell_type": "markdown",
   "metadata": {
    "id": "JExbhIR05ord"
   },
   "source": [
    "## <h3> 4.2. K-Nearest Neighbors (KNN)</h3>\n",
    "\n",
    "Now, I will use the KNN model with 3 neighbors with uniform weighting. I will define a pipe that will standardize the data before fitting the model.\n"
   ]
  },
  {
   "cell_type": "code",
   "execution_count": 12,
   "metadata": {
    "id": "3D441ZPk1yLT"
   },
   "outputs": [],
   "source": [
    "#define KNN pipe\n",
    "pipe_knn = Pipeline([(\"scaler\", StandardScaler()),\n",
    "                         (\"model\", KNeighborsRegressor(n_neighbors = 3)) #weights = 'uniform' is the default\n",
    "                        \n",
    "])"
   ]
  },
  {
   "cell_type": "code",
   "execution_count": 13,
   "metadata": {
    "colab": {
     "base_uri": "https://localhost:8080/"
    },
    "executionInfo": {
     "elapsed": 4,
     "status": "ok",
     "timestamp": 1635375106797,
     "user": {
      "displayName": "Berkalp Altay",
      "photoUrl": "https://lh3.googleusercontent.com/a/default-user=s64",
      "userId": "04046920140933595149"
     },
     "user_tz": 240
    },
    "id": "iF1y5fu_93e9",
    "outputId": "8d1efce2-2113-4ebf-fe41-d6372c9ca11d"
   },
   "outputs": [
    {
     "name": "stdout",
     "output_type": "stream",
     "text": [
      "\n",
      "Time elapsed: 0.0 hours 0.0 minutes and 0.0 seconds\n"
     ]
    }
   ],
   "source": [
    "#fit KNN pipe\n",
    "start_time = time.perf_counter()\n",
    "\n",
    "pipe_knn.fit(X_train, y_train)\n",
    "\n",
    "end_time = time.perf_counter()\n",
    "print_time(start_time, end_time)\n"
   ]
  },
  {
   "cell_type": "code",
   "execution_count": 14,
   "metadata": {
    "colab": {
     "base_uri": "https://localhost:8080/"
    },
    "executionInfo": {
     "elapsed": 8,
     "status": "ok",
     "timestamp": 1635375108018,
     "user": {
      "displayName": "Berkalp Altay",
      "photoUrl": "https://lh3.googleusercontent.com/a/default-user=s64",
      "userId": "04046920140933595149"
     },
     "user_tz": 240
    },
    "id": "DkWEZ2OU9-J_",
    "outputId": "22b7b1f1-d97a-44cb-a269-9a3370066c54"
   },
   "outputs": [
    {
     "name": "stdout",
     "output_type": "stream",
     "text": [
      "KNN RMSE: 8.557281810590855\n"
     ]
    }
   ],
   "source": [
    "#Predict using fitted KNN model\n",
    "knn_preds = pipe_knn.predict(X_test)\n",
    "\n",
    "knn_rmse = mean_squared_error(y_test, knn_preds, squared = False)\n",
    "print(\"KNN RMSE:\",knn_rmse)"
   ]
  },
  {
   "cell_type": "code",
   "execution_count": 15,
   "metadata": {
    "colab": {
     "base_uri": "https://localhost:8080/",
     "height": 111
    },
    "executionInfo": {
     "elapsed": 1458,
     "status": "ok",
     "timestamp": 1635375701312,
     "user": {
      "displayName": "Berkalp Altay",
      "photoUrl": "https://lh3.googleusercontent.com/a/default-user=s64",
      "userId": "04046920140933595149"
     },
     "user_tz": 240
    },
    "id": "FTA3fkbx-E5N",
    "outputId": "30f31c8b-5c77-4089-aea1-fd036f3974d5"
   },
   "outputs": [
    {
     "data": {
      "text/html": [
       "<div>\n",
       "<style scoped>\n",
       "    .dataframe tbody tr th:only-of-type {\n",
       "        vertical-align: middle;\n",
       "    }\n",
       "\n",
       "    .dataframe tbody tr th {\n",
       "        vertical-align: top;\n",
       "    }\n",
       "\n",
       "    .dataframe thead th {\n",
       "        text-align: right;\n",
       "    }\n",
       "</style>\n",
       "<table border=\"1\" class=\"dataframe\">\n",
       "  <thead>\n",
       "    <tr style=\"text-align: right;\">\n",
       "      <th></th>\n",
       "      <th>RMSE</th>\n",
       "    </tr>\n",
       "  </thead>\n",
       "  <tbody>\n",
       "    <tr>\n",
       "      <th>Linear Regression</th>\n",
       "      <td>10.659515</td>\n",
       "    </tr>\n",
       "    <tr>\n",
       "      <th>KNN</th>\n",
       "      <td>8.557282</td>\n",
       "    </tr>\n",
       "  </tbody>\n",
       "</table>\n",
       "</div>"
      ],
      "text/plain": [
       "                        RMSE\n",
       "Linear Regression  10.659515\n",
       "KNN                 8.557282"
      ]
     },
     "execution_count": 15,
     "metadata": {},
     "output_type": "execute_result"
    }
   ],
   "source": [
    "#Store results\n",
    "results.loc[\"KNN\"] = knn_rmse\n",
    "results"
   ]
  },
  {
   "cell_type": "markdown",
   "metadata": {
    "id": "YqTapaF7-y8D"
   },
   "source": [
    "The KNN model gives us an RMSE of **8.56** MPa which is an improvement of over 2 megapascals over the base linear regression model."
   ]
  },
  {
   "cell_type": "markdown",
   "metadata": {
    "id": "L0UCFvW2_MHY"
   },
   "source": [
    "## <h3> 4.3. K-Nearest Neighbors (KNN) with GridSearchCV</h3>\n",
    "\n",
    "Now, I will use the cross validation and tune hyperparameters for the KNN model to see if we have an RMSE improvement.\n",
    "The hyperparameters I will optimize are the number of neighbors as well as the weighting function.\n"
   ]
  },
  {
   "cell_type": "code",
   "execution_count": 16,
   "metadata": {
    "id": "M-lQKo2L-uEI"
   },
   "outputs": [],
   "source": [
    "#Define KNN + GridSearchCV pipe\n",
    "pipe_knn_grid = Pipeline([(\"scaler\", StandardScaler()),\n",
    "                     (\"model\", KNeighborsRegressor())\n",
    "                        \n",
    "])\n",
    "#Define parameter space\n",
    "params_knn = {'model__n_neighbors': [3, 5, 7, 9, 11, 13, 15, 17, 19],\n",
    "            'model__weights': [\"uniform\",\"distance\"]\n",
    "           }\n",
    "\n",
    "\n",
    "#use n_jobs = -1 to use all processors\n",
    "knn_grid = GridSearchCV(pipe_knn_grid, param_grid = params_knn, n_jobs = -1, cv=10, scoring='neg_root_mean_squared_error')"
   ]
  },
  {
   "cell_type": "code",
   "execution_count": 17,
   "metadata": {
    "colab": {
     "base_uri": "https://localhost:8080/"
    },
    "executionInfo": {
     "elapsed": 3167,
     "status": "ok",
     "timestamp": 1635375116691,
     "user": {
      "displayName": "Berkalp Altay",
      "photoUrl": "https://lh3.googleusercontent.com/a/default-user=s64",
      "userId": "04046920140933595149"
     },
     "user_tz": 240
    },
    "id": "fbd9Ab-MARWu",
    "outputId": "e7e48bef-eb59-40aa-8d10-56c6d4d78a4c"
   },
   "outputs": [
    {
     "name": "stdout",
     "output_type": "stream",
     "text": [
      "\n",
      "Time elapsed: 0.0 hours 0.0 minutes and 2.0 seconds\n"
     ]
    }
   ],
   "source": [
    "#Fit KNN + GridSearchCV\n",
    "start_time = time.perf_counter()\n",
    "\n",
    "knn_grid.fit(X_train, y_train)\n",
    "\n",
    "end_time = time.perf_counter()\n",
    "print_time(start_time, end_time)"
   ]
  },
  {
   "cell_type": "code",
   "execution_count": 18,
   "metadata": {
    "colab": {
     "base_uri": "https://localhost:8080/"
    },
    "executionInfo": {
     "elapsed": 342,
     "status": "ok",
     "timestamp": 1635375118944,
     "user": {
      "displayName": "Berkalp Altay",
      "photoUrl": "https://lh3.googleusercontent.com/a/default-user=s64",
      "userId": "04046920140933595149"
     },
     "user_tz": 240
    },
    "id": "gjcgfOUdBq4i",
    "outputId": "356450fe-0b5c-4c3c-d516-408afbf6dced"
   },
   "outputs": [
    {
     "name": "stdout",
     "output_type": "stream",
     "text": [
      "{'model__n_neighbors': 5, 'model__weights': 'distance'}\n"
     ]
    }
   ],
   "source": [
    "#Print best parameters\n",
    "print(knn_grid.best_params_)"
   ]
  },
  {
   "cell_type": "code",
   "execution_count": 19,
   "metadata": {
    "colab": {
     "base_uri": "https://localhost:8080/"
    },
    "executionInfo": {
     "elapsed": 293,
     "status": "ok",
     "timestamp": 1635375122403,
     "user": {
      "displayName": "Berkalp Altay",
      "photoUrl": "https://lh3.googleusercontent.com/a/default-user=s64",
      "userId": "04046920140933595149"
     },
     "user_tz": 240
    },
    "id": "N6cAfglZB05N",
    "outputId": "bbfe3e21-017e-445c-d160-441da42e376c"
   },
   "outputs": [
    {
     "name": "stdout",
     "output_type": "stream",
     "text": [
      "KNN + GridSearchCV RMSE: 7.384882740854421\n"
     ]
    }
   ],
   "source": [
    "#Predict using fitted KNN + GridSearchCV model\n",
    "knn_grid_preds = knn_grid.best_estimator_.predict(X_test)\n",
    "\n",
    "knn_grid_rmse = mean_squared_error(y_test, knn_grid_preds, squared = False)\n",
    "print(\"KNN + GridSearchCV RMSE:\",knn_grid_rmse)"
   ]
  },
  {
   "cell_type": "code",
   "execution_count": 20,
   "metadata": {
    "colab": {
     "base_uri": "https://localhost:8080/",
     "height": 142
    },
    "executionInfo": {
     "elapsed": 664,
     "status": "ok",
     "timestamp": 1635375706040,
     "user": {
      "displayName": "Berkalp Altay",
      "photoUrl": "https://lh3.googleusercontent.com/a/default-user=s64",
      "userId": "04046920140933595149"
     },
     "user_tz": 240
    },
    "id": "00RCNCMWCHAc",
    "outputId": "a717fb83-2273-4dd9-bb6f-0f0adaf66259"
   },
   "outputs": [
    {
     "data": {
      "text/html": [
       "<div>\n",
       "<style scoped>\n",
       "    .dataframe tbody tr th:only-of-type {\n",
       "        vertical-align: middle;\n",
       "    }\n",
       "\n",
       "    .dataframe tbody tr th {\n",
       "        vertical-align: top;\n",
       "    }\n",
       "\n",
       "    .dataframe thead th {\n",
       "        text-align: right;\n",
       "    }\n",
       "</style>\n",
       "<table border=\"1\" class=\"dataframe\">\n",
       "  <thead>\n",
       "    <tr style=\"text-align: right;\">\n",
       "      <th></th>\n",
       "      <th>RMSE</th>\n",
       "    </tr>\n",
       "  </thead>\n",
       "  <tbody>\n",
       "    <tr>\n",
       "      <th>Linear Regression</th>\n",
       "      <td>10.659515</td>\n",
       "    </tr>\n",
       "    <tr>\n",
       "      <th>KNN</th>\n",
       "      <td>8.557282</td>\n",
       "    </tr>\n",
       "    <tr>\n",
       "      <th>KNN + GridSearchCV</th>\n",
       "      <td>7.384883</td>\n",
       "    </tr>\n",
       "  </tbody>\n",
       "</table>\n",
       "</div>"
      ],
      "text/plain": [
       "                         RMSE\n",
       "Linear Regression   10.659515\n",
       "KNN                  8.557282\n",
       "KNN + GridSearchCV   7.384883"
      ]
     },
     "execution_count": 20,
     "metadata": {},
     "output_type": "execute_result"
    }
   ],
   "source": [
    "#Store results\n",
    "results.loc[\"KNN + GridSearchCV\"] = knn_grid_rmse\n",
    "results"
   ]
  },
  {
   "cell_type": "markdown",
   "metadata": {
    "id": "J4eSNuRKzcns"
   },
   "source": [
    "With GridSearchCV, the KNN model substantially improves to an RMSE of **7.38** from the original RMSE of 8.56."
   ]
  },
  {
   "cell_type": "markdown",
   "metadata": {
    "id": "vAfRvym59FXx"
   },
   "source": [
    "Let's save X_train, X_test, y_train, y_test, ad Results sets so that the second Modeling part can load them directly."
   ]
  },
  {
   "cell_type": "code",
   "execution_count": 21,
   "metadata": {
    "id": "fX5iGgFM9qwl"
   },
   "outputs": [],
   "source": [
    "#Save X_train set as a csv file\n",
    "X_train.to_csv('saved_files/concrete_x_train.csv', index=False)\n",
    "#Save X_test set as a csv file\n",
    "X_test.to_csv('saved_files/concrete_x_test.csv', index=False)\n",
    "#Save y_train set as a csv file\n",
    "y_train.to_csv('saved_files/concrete_y_train.csv', index=False)\n",
    "#Save y_test set as a csv file\n",
    "y_test.to_csv('saved_files/concrete_y_test.csv', index=False)\n",
    "#Save model results as a csv file\n",
    "results.to_csv('saved_files/concrete_model_results.csv', index=True)"
   ]
  },
  {
   "cell_type": "markdown",
   "metadata": {
    "id": "YxpfGbvx6bQm"
   },
   "source": [
    "Next notebook will focus on Random Forest, XGBoost, their optimization and some ensemble model."
   ]
  }
 ],
 "metadata": {
  "accelerator": "GPU",
  "colab": {
   "authorship_tag": "ABX9TyOHspP2QE2Shl6dq/d+asoc",
   "collapsed_sections": [],
   "name": "3. Preprocessing & Modeling Part 1.ipynb",
   "provenance": [
    {
     "file_id": "1Dks0BxGpnhyEtRwFMVYREH33nVMybcnh",
     "timestamp": 1635012694681
    }
   ],
   "toc_visible": true
  },
  "kernelspec": {
   "display_name": "Python 3",
   "language": "python",
   "name": "python3"
  },
  "language_info": {
   "codemirror_mode": {
    "name": "ipython",
    "version": 3
   },
   "file_extension": ".py",
   "mimetype": "text/x-python",
   "name": "python",
   "nbconvert_exporter": "python",
   "pygments_lexer": "ipython3",
   "version": "3.8.8"
  }
 },
 "nbformat": 4,
 "nbformat_minor": 1
}
